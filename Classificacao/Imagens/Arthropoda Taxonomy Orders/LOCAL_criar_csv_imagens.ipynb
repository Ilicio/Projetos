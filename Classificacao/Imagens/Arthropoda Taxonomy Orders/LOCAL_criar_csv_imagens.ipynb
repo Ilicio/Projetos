{
 "cells": [
  {
   "cell_type": "code",
   "execution_count": 1,
   "id": "dca0f220",
   "metadata": {},
   "outputs": [],
   "source": [
    "# Carregar bibliotecas\n",
    "\n",
    "import pandas as pd\n",
    "import os\n"
   ]
  },
  {
   "cell_type": "code",
   "execution_count": 2,
   "id": "2862ecd3",
   "metadata": {},
   "outputs": [],
   "source": [
    "# Setar pasta dos arquivos\n",
    "\n",
    "os.chdir(r'C:\\Users\\ilicio\\Desktop\\ArTaxOr\\Tratados')\n",
    "\n",
    "# Setar pastas para cada classe\n",
    "\n",
    "folders = ['araneae', 'coleoptera', 'diptera', 'hemiptera', 'hymenoptera', 'lepidoptera', 'odonata' ]\n",
    "\n",
    "files = []\n",
    "\n",
    "for folder in folders:\n",
    "    for file in os.listdir(folder):\n",
    "        files.append([file, folder])\n",
    "        \n",
    "pd.DataFrame(files, columns = ['files', 'target']).to_csv('files_and_targets.csv', index = False, sep = ',', header = False)"
   ]
  },
  {
   "cell_type": "code",
   "execution_count": null,
   "id": "11595f16",
   "metadata": {},
   "outputs": [],
   "source": []
  }
 ],
 "metadata": {
  "kernelspec": {
   "display_name": "Python 3 (ipykernel)",
   "language": "python",
   "name": "python3"
  },
  "language_info": {
   "codemirror_mode": {
    "name": "ipython",
    "version": 3
   },
   "file_extension": ".py",
   "mimetype": "text/x-python",
   "name": "python",
   "nbconvert_exporter": "python",
   "pygments_lexer": "ipython3",
   "version": "3.9.12"
  }
 },
 "nbformat": 4,
 "nbformat_minor": 5
}
