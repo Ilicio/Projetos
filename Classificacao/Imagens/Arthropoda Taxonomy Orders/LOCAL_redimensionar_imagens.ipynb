{
 "cells": [
  {
   "cell_type": "code",
   "execution_count": 1,
   "id": "4cdb4e13",
   "metadata": {},
   "outputs": [],
   "source": [
    "# Carregar bibliotecas\n",
    "\n",
    "import cv2\n",
    "import glob\n",
    "import os"
   ]
  },
  {
   "cell_type": "code",
   "execution_count": 2,
   "id": "4e6263a8",
   "metadata": {},
   "outputs": [],
   "source": [
    "i=0"
   ]
  },
  {
   "cell_type": "code",
   "execution_count": 3,
   "id": "becb2450",
   "metadata": {},
   "outputs": [],
   "source": [
    "# ARANEAE: Definir pasta para as imagens brutas e criar pasta para imagens convertidas\n",
    "\n",
    "inputFolder = 'C:/Users/ilicio/Desktop/ArTaxOr/Araneae_full'\n",
    "os.mkdir('C:/Users/ilicio/Desktop/ArTaxOr/araneae')"
   ]
  },
  {
   "cell_type": "code",
   "execution_count": 4,
   "id": "a1dbb418",
   "metadata": {},
   "outputs": [],
   "source": [
    "# ARANEAE: Criar funcao para converter imagens jpg para tamanho de 300x300, adicionar um nome 'image0001' em diante, mostrar as imagens numa janela e finalmente fechar as janelas\n",
    "    \n",
    "for img in glob.glob(inputFolder + \"/*.jpg\"):\n",
    "    image = cv2.imread(img)\n",
    "    imgResized = cv2.resize(image, (300, 300))\n",
    "    cv2.imwrite(\"C:/Users/ilicio/Desktop/ArTaxOr/araneae/image%04i.jpg\" %i, imgResized)\n",
    "    \n",
    "    i +=1\n",
    "    cv2.imshow('image', imgResized)\n",
    "    cv2.waitKey(30)\n",
    "\n",
    "cv2.destroyAllWindows()"
   ]
  },
  {
   "cell_type": "code",
   "execution_count": 5,
   "id": "5c72c3dd",
   "metadata": {},
   "outputs": [],
   "source": [
    "# COLEOPTERA: Definir pasta para as imagens brutas e criar pasta para imagens convertidas\n",
    "\n",
    "inputFolder = 'C:/Users/ilicio/Desktop/ArTaxOr/Coleoptera_full'\n",
    "os.mkdir('C:/Users/ilicio/Desktop/ArTaxOr/coleoptera')"
   ]
  },
  {
   "cell_type": "code",
   "execution_count": null,
   "id": "2ed6ed90",
   "metadata": {},
   "outputs": [],
   "source": [
    "# COLEOPTERA: Criar funcao para converter imagens jpg para tamanho de 300x300, adicionar um nome 'image0001' em diante, mostrar as imagens numa janela e finalmente fechar as janelas\n",
    "\n",
    "for img in glob.glob(inputFolder + \"/*.jpg\"):\n",
    "    image = cv2.imread(img)\n",
    "    imgResized = cv2.resize(image, (300, 300))\n",
    "    cv2.imwrite(\"C:/Users/ilicio/Desktop/ArTaxOr/coleoptera/image%04i.jpg\" %i, imgResized)\n",
    "\n",
    "    i +=1\n",
    "    cv2.imshow('image', imgResized)\n",
    "    cv2.waitKey(30)\n",
    "\n",
    "cv2.destroyAllWindows()"
   ]
  },
  {
   "cell_type": "code",
   "execution_count": 7,
   "id": "8385d6e8",
   "metadata": {},
   "outputs": [],
   "source": [
    "# DIPTERA: Definir pasta para as imagens brutas e criar pasta para imagens convertidas\n",
    "\n",
    "inputFolder = 'C:/Users/ilicio/Desktop/ArTaxOr/Diptera_full'\n",
    "os.mkdir('C:/Users/ilicio/Desktop/ArTaxOr/diptera')"
   ]
  },
  {
   "cell_type": "code",
   "execution_count": 8,
   "id": "1ee0895d",
   "metadata": {},
   "outputs": [],
   "source": [
    "# DIPTERA: Criar funcao para converter imagens jpg para tamanho de 300x300, adicionar um nome 'image0001' em diante, mostrar as imagens numa janela e finalmente fechar as janelas\n",
    "\n",
    "for img in glob.glob(inputFolder + \"/*.jpg\"):\n",
    "    image = cv2.imread(img)\n",
    "    imgResized = cv2.resize(image, (300, 300))\n",
    "    cv2.imwrite(\"C:/Users/ilicio/Desktop/ArTaxOr/diptera/image%04i.jpg\" %i, imgResized)\n",
    "\n",
    "    i +=1\n",
    "    cv2.imshow('image', imgResized)\n",
    "    cv2.waitKey(30)\n",
    "\n",
    "cv2.destroyAllWindows()"
   ]
  },
  {
   "cell_type": "code",
   "execution_count": 9,
   "id": "a8d61450",
   "metadata": {},
   "outputs": [],
   "source": [
    "# HEMIPTERA: Definir pasta para as imagens brutas e criar pasta para imagens convertidas\n",
    "\n",
    "inputFolder = 'C:/Users/ilicio/Desktop/ArTaxOr/Hemiptera_full'\n",
    "os.mkdir('C:/Users/ilicio/Desktop/ArTaxOr/hemiptera')"
   ]
  },
  {
   "cell_type": "code",
   "execution_count": 10,
   "id": "9ef2d9d0",
   "metadata": {},
   "outputs": [],
   "source": [
    "# HEMIPTERA: Criar funcao para converter imagens jpg para tamanho de 300x300, adicionar um nome 'image0001' em diante, mostrar as imagens numa janela e finalmente fechar as janelas\n",
    "\n",
    "for img in glob.glob(inputFolder + \"/*.jpg\"):\n",
    "    image = cv2.imread(img)\n",
    "    imgResized = cv2.resize(image, (300, 300))\n",
    "    cv2.imwrite(\"C:/Users/ilicio/Desktop/ArTaxOr/hemiptera/image%04i.jpg\" %i, imgResized)\n",
    "\n",
    "    i +=1\n",
    "    cv2.imshow('image', imgResized)\n",
    "    cv2.waitKey(30)\n",
    "\n",
    "cv2.destroyAllWindows()"
   ]
  },
  {
   "cell_type": "code",
   "execution_count": 11,
   "id": "6712a315",
   "metadata": {},
   "outputs": [],
   "source": [
    "# HYMENOPTERA: Definir pasta para as imagens brutas e criar pasta para imagens convertidas\n",
    "\n",
    "inputFolder = 'C:/Users/ilicio/Desktop/ArTaxOr/Hymenoptera_full'\n",
    "os.mkdir('C:/Users/ilicio/Desktop/ArTaxOr/hymenoptera')"
   ]
  },
  {
   "cell_type": "code",
   "execution_count": 12,
   "id": "f9751192",
   "metadata": {},
   "outputs": [],
   "source": [
    "# HYMENOPTERA: Criar funcao para converter imagens jpg para tamanho de 300x300, adicionar um nome 'image0001' em diante, mostrar as imagens numa janela e finalmente fechar as janelas\n",
    "\n",
    "for img in glob.glob(inputFolder + \"/*.jpg\"):\n",
    "    image = cv2.imread(img)\n",
    "    imgResized = cv2.resize(image, (300, 300))\n",
    "    cv2.imwrite(\"C:/Users/ilicio/Desktop/ArTaxOr/hymenoptera/image%04i.jpg\" %i, imgResized)\n",
    "\n",
    "    i +=1\n",
    "    cv2.imshow('image', imgResized)\n",
    "    cv2.waitKey(30)\n",
    "\n",
    "cv2.destroyAllWindows()"
   ]
  },
  {
   "cell_type": "code",
   "execution_count": 13,
   "id": "524ebd8b",
   "metadata": {},
   "outputs": [],
   "source": [
    "# LEPIDOPTERA: Definir pasta para as imagens brutas e criar pasta para imagens convertidas\n",
    "\n",
    "inputFolder = 'C:/Users/ilicio/Desktop/ArTaxOr/Lepidoptera_full'\n",
    "os.mkdir('C:/Users/ilicio/Desktop/ArTaxOr/lepidoptera')"
   ]
  },
  {
   "cell_type": "code",
   "execution_count": 14,
   "id": "1580ed7e",
   "metadata": {},
   "outputs": [],
   "source": [
    "# LEPIDOPTERA: Criar funcao para converter imagens jpg para tamanho de 300x300, adicionar um nome 'image0001' em diante, mostrar as imagens numa janela e finalmente fechar as janelas\n",
    "\n",
    "for img in glob.glob(inputFolder + \"/*.jpg\"):\n",
    "    image = cv2.imread(img)\n",
    "    imgResized = cv2.resize(image, (300, 300))\n",
    "    cv2.imwrite(\"C:/Users/ilicio/Desktop/ArTaxOr/lepidoptera/image%04i.jpg\" %i, imgResized)\n",
    "\n",
    "    i +=1\n",
    "    cv2.imshow('image', imgResized)\n",
    "    cv2.waitKey(30)\n",
    "\n",
    "cv2.destroyAllWindows()"
   ]
  },
  {
   "cell_type": "code",
   "execution_count": 15,
   "id": "2d71afa6",
   "metadata": {},
   "outputs": [],
   "source": [
    "# ODONATA: Definir pasta para as imagens brutas e criar pasta para imagens convertidas\n",
    "\n",
    "inputFolder = 'C:/Users/ilicio/Desktop/ArTaxOr/Odonata_full'\n",
    "os.mkdir('C:/Users/ilicio/Desktop/ArTaxOr/odonata')\n",
    "\n",
    "i=0"
   ]
  },
  {
   "cell_type": "code",
   "execution_count": 16,
   "id": "469c6473",
   "metadata": {},
   "outputs": [],
   "source": [
    "# ODONATA: Criar funcao para converter imagens jpg para tamanho de 300x300, adicionar um nome 'image0001' em diante, mostrar as imagens numa janela e finalmente fechar as janelas\n",
    "\n",
    "for img in glob.glob(inputFolder + \"/*.jpg\"):\n",
    "    image = cv2.imread(img)\n",
    "    imgResized = cv2.resize(image, (300, 300))\n",
    "    cv2.imwrite(\"C:/Users/ilicio/Desktop/ArTaxOr/odonata/image%04i.jpg\" %i, imgResized)\n",
    "\n",
    "    i +=1\n",
    "    cv2.imshow('image', imgResized)\n",
    "    cv2.waitKey(30)\n",
    "\n",
    "cv2.destroyAllWindows()"
   ]
  },
  {
   "cell_type": "code",
   "execution_count": null,
   "id": "c7a08b65",
   "metadata": {},
   "outputs": [],
   "source": []
  }
 ],
 "metadata": {
  "kernelspec": {
   "display_name": "Python 3 (ipykernel)",
   "language": "python",
   "name": "python3"
  },
  "language_info": {
   "codemirror_mode": {
    "name": "ipython",
    "version": 3
   },
   "file_extension": ".py",
   "mimetype": "text/x-python",
   "name": "python",
   "nbconvert_exporter": "python",
   "pygments_lexer": "ipython3",
   "version": "3.9.12"
  }
 },
 "nbformat": 4,
 "nbformat_minor": 5
}
